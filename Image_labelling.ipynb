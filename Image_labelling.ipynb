{
 "cells": [
  {
   "cell_type": "markdown",
   "metadata": {},
   "source": [
    "# 1. Import Dependencies"
   ]
  },
  {
   "cell_type": "code",
   "execution_count": null,
   "metadata": {},
   "outputs": [],
   "source": [
    "import cv2 \n",
    "import uuid\n",
    "import os\n",
    "import time"
   ]
  },
  {
   "cell_type": "markdown",
   "metadata": {},
   "source": [
    "# 2. Setup Folders "
   ]
  },
  {
   "cell_type": "code",
   "execution_count": 16,
   "metadata": {},
   "outputs": [],
   "source": [
    "#creating new path where will store our image to label\n",
    "IMAGES_PATH = os.path.join('Tensorflow', 'workspace', 'images', 'collectedimages', 'face')"
   ]
  },
  {
   "cell_type": "code",
   "execution_count": 17,
   "metadata": {},
   "outputs": [],
   "source": [
    "# create the file path \n",
    "if not os.path.exists(IMAGES_PATH):\n",
    "         !mkdir {IMAGES_PATH}"
   ]
  },
  {
   "cell_type": "markdown",
   "metadata": {},
   "source": [
    "# 3. Image Labelling"
   ]
  },
  {
   "cell_type": "code",
   "execution_count": 9,
   "metadata": {},
   "outputs": [
    {
     "name": "stdout",
     "output_type": "stream",
     "text": [
      "Requirement already satisfied: pyqt5 in c:\\users\\poopo\\documents\\tensor flow object detection\\tfodface5\\tfod5\\lib\\site-packages (5.15.6)\n",
      "Requirement already satisfied: lxml in c:\\users\\poopo\\documents\\tensor flow object detection\\tfodface5\\tfod5\\lib\\site-packages (4.8.0)\n",
      "Collecting lxml\n",
      "  Downloading lxml-4.9.0-cp37-cp37m-win_amd64.whl (3.6 MB)\n",
      "     ---------------------------------------- 3.6/3.6 MB 5.8 MB/s eta 0:00:00\n",
      "Requirement already satisfied: PyQt5-Qt5>=5.15.2 in c:\\users\\poopo\\documents\\tensor flow object detection\\tfodface5\\tfod5\\lib\\site-packages (from pyqt5) (5.15.2)\n",
      "Requirement already satisfied: PyQt5-sip<13,>=12.8 in c:\\users\\poopo\\documents\\tensor flow object detection\\tfodface5\\tfod5\\lib\\site-packages (from pyqt5) (12.9.1)\n",
      "Installing collected packages: lxml\n",
      "  Attempting uninstall: lxml\n",
      "    Found existing installation: lxml 4.8.0\n",
      "    Uninstalling lxml-4.8.0:\n",
      "      Successfully uninstalled lxml-4.8.0\n",
      "Successfully installed lxml-4.9.0\n"
     ]
    }
   ],
   "source": [
    "#We will be using labelImg tool to annotate our image, it requires the following package \n",
    "#lxml : when label images we create an xml file containing the label data (original image size, depth, object name, number of label per image, bonding box)\n",
    "!pip install --upgrade pyqt5 lxml"
   ]
  },
  {
   "cell_type": "code",
   "execution_count": 18,
   "metadata": {},
   "outputs": [],
   "source": [
    "#creating labelimg path\n",
    "LABELIMG_PATH = os.path.join('Tensorflow', 'labelimg')"
   ]
  },
  {
   "cell_type": "code",
   "execution_count": 11,
   "metadata": {},
   "outputs": [],
   "source": [
    "#creating labelimg folder and clone the labelImg package\n",
    "if not os.path.exists(LABELIMG_PATH):\n",
    "    !mkdir {LABELIMG_PATH}\n",
    "    !git clone https://github.com/tzutalin/labelImg {LABELIMG_PATH}"
   ]
  },
  {
   "cell_type": "code",
   "execution_count": 19,
   "metadata": {},
   "outputs": [],
   "source": [
    "#Installing the labelimg package for windows \n",
    "!cd {LABELIMG_PATH} && pyrcc5 -o libs/resources.py resources.qrc"
   ]
  },
  {
   "cell_type": "code",
   "execution_count": 20,
   "metadata": {},
   "outputs": [
    {
     "name": "stdout",
     "output_type": "stream",
     "text": [
      "Image:C:\\Users\\poopo\\OneDrive - Data ScienceTech Institute\\Desktop\\Test images\\testother\\istockphoto-1265056799.jpg -> Annotation:C:/Users/poopo/OneDrive - Data ScienceTech Institute/Desktop/Test images/testother\\istockphoto-1265056799.xml\n",
      "Image:C:\\Users\\poopo\\OneDrive - Data ScienceTech Institute\\Desktop\\Test images\\testother\\istockphoto-1198252595.jpg -> Annotation:C:/Users/poopo/OneDrive - Data ScienceTech Institute/Desktop/Test images/testother\\istockphoto-1198252595.xml\n",
      "Cancel creation.\n",
      "Image:C:\\Users\\poopo\\OneDrive - Data ScienceTech Institute\\Desktop\\Test images\\testother\\istockphoto-1272744431.jpg -> Annotation:C:/Users/poopo/OneDrive - Data ScienceTech Institute/Desktop/Test images/testother\\istockphoto-1272744431.xml\n",
      "Image:C:\\Users\\poopo\\OneDrive - Data ScienceTech Institute\\Desktop\\Test images\\testother\\istockphoto-1285126883.jpg -> Annotation:C:/Users/poopo/OneDrive - Data ScienceTech Institute/Desktop/Test images/testother\\istockphoto-1285126883.xml\n"
     ]
    }
   ],
   "source": [
    "#launch the image labelling app\n",
    "!cd {LABELIMG_PATH} && python labelImg.py"
   ]
  }
 ],
 "metadata": {
  "kernelspec": {
   "display_name": "tfod5",
   "language": "python",
   "name": "tfod5"
  },
  "language_info": {
   "codemirror_mode": {
    "name": "ipython",
    "version": 3
   },
   "file_extension": ".py",
   "mimetype": "text/x-python",
   "name": "python",
   "nbconvert_exporter": "python",
   "pygments_lexer": "ipython3",
   "version": "3.7.7"
  }
 },
 "nbformat": 4,
 "nbformat_minor": 2
}
